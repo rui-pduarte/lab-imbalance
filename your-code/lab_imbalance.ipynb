{
 "cells": [
  {
   "cell_type": "code",
   "execution_count": 1,
   "metadata": {},
   "outputs": [],
   "source": [
    "import pandas as pd\n",
    "import numpy as np\n",
    "import seaborn as sns\n",
    "import matplotlib.pyplot as plt\n",
    "import warnings\n",
    "\n",
    "from sklearn.model_selection import train_test_split\n",
    "from sklearn.metrics import confusion_matrix\n",
    "from sklearn.metrics import accuracy_score\n",
    "from sklearn.metrics import classification_report\n",
    "from sklearn.metrics import f1_score\n",
    "from sklearn.utils import resample\n",
    "from sklearn.linear_model import LogisticRegression\n",
    "from sklearn.feature_selection import chi2"
   ]
  },
  {
   "cell_type": "markdown",
   "metadata": {},
   "source": [
    "# Inbalanced Classes\n",
    "## In this lab, we are going to explore a case of imbalanced classes. \n",
    "\n",
    "\n",
    "Like we disussed in class, when we have noisy data, if we are not careful, we can end up fitting our model to the noise in the data and not the 'signal'-- the factors that actually determine the outcome. This is called overfitting, and results in good results in training, and in bad results when the model is applied to real data. Similarly, we could have a model that is too simplistic to accurately model the signal. This produces a model that doesnt work well (ever). \n"
   ]
  },
  {
   "cell_type": "markdown",
   "metadata": {},
   "source": [
    "### Note: before doing the first commit, make sure you don't include the large csv file, either by adding it to .gitignore, or by deleting it."
   ]
  },
  {
   "cell_type": "markdown",
   "metadata": {},
   "source": [
    "### First, download the data from: https://www.kaggle.com/ntnu-testimon/paysim1. Import the dataset and provide some discriptive statistics and plots. What do you think will be the important features in determining the outcome?\n",
    "### Note: don't use the entire dataset, use a sample instead, with n=100000 elements, so your computer doesn't freeze."
   ]
  },
  {
   "cell_type": "code",
   "execution_count": 2,
   "metadata": {},
   "outputs": [],
   "source": [
    "# Your code here\n",
    "Fraud = pd.read_csv('PS_20174392719_1491204439457_log.csv')"
   ]
  },
  {
   "cell_type": "code",
   "execution_count": 3,
   "metadata": {},
   "outputs": [
    {
     "data": {
      "text/plain": [
       "step                int64\n",
       "type               object\n",
       "amount            float64\n",
       "nameOrig           object\n",
       "oldbalanceOrg     float64\n",
       "newbalanceOrig    float64\n",
       "nameDest           object\n",
       "oldbalanceDest    float64\n",
       "newbalanceDest    float64\n",
       "isFraud             int64\n",
       "isFlaggedFraud      int64\n",
       "dtype: object"
      ]
     },
     "execution_count": 3,
     "metadata": {},
     "output_type": "execute_result"
    }
   ],
   "source": [
    "Fraud.dtypes"
   ]
  },
  {
   "cell_type": "code",
   "execution_count": 4,
   "metadata": {},
   "outputs": [
    {
     "data": {
      "text/html": [
       "<div>\n",
       "<style scoped>\n",
       "    .dataframe tbody tr th:only-of-type {\n",
       "        vertical-align: middle;\n",
       "    }\n",
       "\n",
       "    .dataframe tbody tr th {\n",
       "        vertical-align: top;\n",
       "    }\n",
       "\n",
       "    .dataframe thead th {\n",
       "        text-align: right;\n",
       "    }\n",
       "</style>\n",
       "<table border=\"1\" class=\"dataframe\">\n",
       "  <thead>\n",
       "    <tr style=\"text-align: right;\">\n",
       "      <th></th>\n",
       "      <th>step</th>\n",
       "      <th>type</th>\n",
       "      <th>amount</th>\n",
       "      <th>nameOrig</th>\n",
       "      <th>oldbalanceOrg</th>\n",
       "      <th>newbalanceOrig</th>\n",
       "      <th>nameDest</th>\n",
       "      <th>oldbalanceDest</th>\n",
       "      <th>newbalanceDest</th>\n",
       "      <th>isFraud</th>\n",
       "      <th>isFlaggedFraud</th>\n",
       "    </tr>\n",
       "  </thead>\n",
       "  <tbody>\n",
       "    <tr>\n",
       "      <th>0</th>\n",
       "      <td>1</td>\n",
       "      <td>PAYMENT</td>\n",
       "      <td>9839.64</td>\n",
       "      <td>C1231006815</td>\n",
       "      <td>170136.0</td>\n",
       "      <td>160296.36</td>\n",
       "      <td>M1979787155</td>\n",
       "      <td>0.0</td>\n",
       "      <td>0.0</td>\n",
       "      <td>0</td>\n",
       "      <td>0</td>\n",
       "    </tr>\n",
       "    <tr>\n",
       "      <th>1</th>\n",
       "      <td>1</td>\n",
       "      <td>PAYMENT</td>\n",
       "      <td>1864.28</td>\n",
       "      <td>C1666544295</td>\n",
       "      <td>21249.0</td>\n",
       "      <td>19384.72</td>\n",
       "      <td>M2044282225</td>\n",
       "      <td>0.0</td>\n",
       "      <td>0.0</td>\n",
       "      <td>0</td>\n",
       "      <td>0</td>\n",
       "    </tr>\n",
       "    <tr>\n",
       "      <th>2</th>\n",
       "      <td>1</td>\n",
       "      <td>TRANSFER</td>\n",
       "      <td>181.00</td>\n",
       "      <td>C1305486145</td>\n",
       "      <td>181.0</td>\n",
       "      <td>0.00</td>\n",
       "      <td>C553264065</td>\n",
       "      <td>0.0</td>\n",
       "      <td>0.0</td>\n",
       "      <td>1</td>\n",
       "      <td>0</td>\n",
       "    </tr>\n",
       "    <tr>\n",
       "      <th>3</th>\n",
       "      <td>1</td>\n",
       "      <td>CASH_OUT</td>\n",
       "      <td>181.00</td>\n",
       "      <td>C840083671</td>\n",
       "      <td>181.0</td>\n",
       "      <td>0.00</td>\n",
       "      <td>C38997010</td>\n",
       "      <td>21182.0</td>\n",
       "      <td>0.0</td>\n",
       "      <td>1</td>\n",
       "      <td>0</td>\n",
       "    </tr>\n",
       "    <tr>\n",
       "      <th>4</th>\n",
       "      <td>1</td>\n",
       "      <td>PAYMENT</td>\n",
       "      <td>11668.14</td>\n",
       "      <td>C2048537720</td>\n",
       "      <td>41554.0</td>\n",
       "      <td>29885.86</td>\n",
       "      <td>M1230701703</td>\n",
       "      <td>0.0</td>\n",
       "      <td>0.0</td>\n",
       "      <td>0</td>\n",
       "      <td>0</td>\n",
       "    </tr>\n",
       "  </tbody>\n",
       "</table>\n",
       "</div>"
      ],
      "text/plain": [
       "   step      type    amount     nameOrig  oldbalanceOrg  newbalanceOrig  \\\n",
       "0     1   PAYMENT   9839.64  C1231006815       170136.0       160296.36   \n",
       "1     1   PAYMENT   1864.28  C1666544295        21249.0        19384.72   \n",
       "2     1  TRANSFER    181.00  C1305486145          181.0            0.00   \n",
       "3     1  CASH_OUT    181.00   C840083671          181.0            0.00   \n",
       "4     1   PAYMENT  11668.14  C2048537720        41554.0        29885.86   \n",
       "\n",
       "      nameDest  oldbalanceDest  newbalanceDest  isFraud  isFlaggedFraud  \n",
       "0  M1979787155             0.0             0.0        0               0  \n",
       "1  M2044282225             0.0             0.0        0               0  \n",
       "2   C553264065             0.0             0.0        1               0  \n",
       "3    C38997010         21182.0             0.0        1               0  \n",
       "4  M1230701703             0.0             0.0        0               0  "
      ]
     },
     "execution_count": 4,
     "metadata": {},
     "output_type": "execute_result"
    }
   ],
   "source": [
    "Fraud.head(5)\n",
    "# Step - Maps a unit of time in the real world. In this case 1 step is 1 hour of time."
   ]
  },
  {
   "cell_type": "code",
   "execution_count": 5,
   "metadata": {},
   "outputs": [
    {
     "data": {
      "text/html": [
       "<div>\n",
       "<style scoped>\n",
       "    .dataframe tbody tr th:only-of-type {\n",
       "        vertical-align: middle;\n",
       "    }\n",
       "\n",
       "    .dataframe tbody tr th {\n",
       "        vertical-align: top;\n",
       "    }\n",
       "\n",
       "    .dataframe thead th {\n",
       "        text-align: right;\n",
       "    }\n",
       "</style>\n",
       "<table border=\"1\" class=\"dataframe\">\n",
       "  <thead>\n",
       "    <tr style=\"text-align: right;\">\n",
       "      <th></th>\n",
       "      <th>step</th>\n",
       "      <th>amount</th>\n",
       "      <th>oldbalanceOrg</th>\n",
       "      <th>newbalanceOrig</th>\n",
       "      <th>oldbalanceDest</th>\n",
       "      <th>newbalanceDest</th>\n",
       "      <th>isFraud</th>\n",
       "      <th>isFlaggedFraud</th>\n",
       "    </tr>\n",
       "  </thead>\n",
       "  <tbody>\n",
       "    <tr>\n",
       "      <th>count</th>\n",
       "      <td>6.362620e+06</td>\n",
       "      <td>6.362620e+06</td>\n",
       "      <td>6.362620e+06</td>\n",
       "      <td>6.362620e+06</td>\n",
       "      <td>6.362620e+06</td>\n",
       "      <td>6.362620e+06</td>\n",
       "      <td>6.362620e+06</td>\n",
       "      <td>6.362620e+06</td>\n",
       "    </tr>\n",
       "    <tr>\n",
       "      <th>mean</th>\n",
       "      <td>2.433972e+02</td>\n",
       "      <td>1.798619e+05</td>\n",
       "      <td>8.338831e+05</td>\n",
       "      <td>8.551137e+05</td>\n",
       "      <td>1.100702e+06</td>\n",
       "      <td>1.224996e+06</td>\n",
       "      <td>1.290820e-03</td>\n",
       "      <td>2.514687e-06</td>\n",
       "    </tr>\n",
       "    <tr>\n",
       "      <th>std</th>\n",
       "      <td>1.423320e+02</td>\n",
       "      <td>6.038582e+05</td>\n",
       "      <td>2.888243e+06</td>\n",
       "      <td>2.924049e+06</td>\n",
       "      <td>3.399180e+06</td>\n",
       "      <td>3.674129e+06</td>\n",
       "      <td>3.590480e-02</td>\n",
       "      <td>1.585775e-03</td>\n",
       "    </tr>\n",
       "    <tr>\n",
       "      <th>min</th>\n",
       "      <td>1.000000e+00</td>\n",
       "      <td>0.000000e+00</td>\n",
       "      <td>0.000000e+00</td>\n",
       "      <td>0.000000e+00</td>\n",
       "      <td>0.000000e+00</td>\n",
       "      <td>0.000000e+00</td>\n",
       "      <td>0.000000e+00</td>\n",
       "      <td>0.000000e+00</td>\n",
       "    </tr>\n",
       "    <tr>\n",
       "      <th>25%</th>\n",
       "      <td>1.560000e+02</td>\n",
       "      <td>1.338957e+04</td>\n",
       "      <td>0.000000e+00</td>\n",
       "      <td>0.000000e+00</td>\n",
       "      <td>0.000000e+00</td>\n",
       "      <td>0.000000e+00</td>\n",
       "      <td>0.000000e+00</td>\n",
       "      <td>0.000000e+00</td>\n",
       "    </tr>\n",
       "    <tr>\n",
       "      <th>50%</th>\n",
       "      <td>2.390000e+02</td>\n",
       "      <td>7.487194e+04</td>\n",
       "      <td>1.420800e+04</td>\n",
       "      <td>0.000000e+00</td>\n",
       "      <td>1.327057e+05</td>\n",
       "      <td>2.146614e+05</td>\n",
       "      <td>0.000000e+00</td>\n",
       "      <td>0.000000e+00</td>\n",
       "    </tr>\n",
       "    <tr>\n",
       "      <th>75%</th>\n",
       "      <td>3.350000e+02</td>\n",
       "      <td>2.087215e+05</td>\n",
       "      <td>1.073152e+05</td>\n",
       "      <td>1.442584e+05</td>\n",
       "      <td>9.430367e+05</td>\n",
       "      <td>1.111909e+06</td>\n",
       "      <td>0.000000e+00</td>\n",
       "      <td>0.000000e+00</td>\n",
       "    </tr>\n",
       "    <tr>\n",
       "      <th>max</th>\n",
       "      <td>7.430000e+02</td>\n",
       "      <td>9.244552e+07</td>\n",
       "      <td>5.958504e+07</td>\n",
       "      <td>4.958504e+07</td>\n",
       "      <td>3.560159e+08</td>\n",
       "      <td>3.561793e+08</td>\n",
       "      <td>1.000000e+00</td>\n",
       "      <td>1.000000e+00</td>\n",
       "    </tr>\n",
       "  </tbody>\n",
       "</table>\n",
       "</div>"
      ],
      "text/plain": [
       "               step        amount  oldbalanceOrg  newbalanceOrig  \\\n",
       "count  6.362620e+06  6.362620e+06   6.362620e+06    6.362620e+06   \n",
       "mean   2.433972e+02  1.798619e+05   8.338831e+05    8.551137e+05   \n",
       "std    1.423320e+02  6.038582e+05   2.888243e+06    2.924049e+06   \n",
       "min    1.000000e+00  0.000000e+00   0.000000e+00    0.000000e+00   \n",
       "25%    1.560000e+02  1.338957e+04   0.000000e+00    0.000000e+00   \n",
       "50%    2.390000e+02  7.487194e+04   1.420800e+04    0.000000e+00   \n",
       "75%    3.350000e+02  2.087215e+05   1.073152e+05    1.442584e+05   \n",
       "max    7.430000e+02  9.244552e+07   5.958504e+07    4.958504e+07   \n",
       "\n",
       "       oldbalanceDest  newbalanceDest       isFraud  isFlaggedFraud  \n",
       "count    6.362620e+06    6.362620e+06  6.362620e+06    6.362620e+06  \n",
       "mean     1.100702e+06    1.224996e+06  1.290820e-03    2.514687e-06  \n",
       "std      3.399180e+06    3.674129e+06  3.590480e-02    1.585775e-03  \n",
       "min      0.000000e+00    0.000000e+00  0.000000e+00    0.000000e+00  \n",
       "25%      0.000000e+00    0.000000e+00  0.000000e+00    0.000000e+00  \n",
       "50%      1.327057e+05    2.146614e+05  0.000000e+00    0.000000e+00  \n",
       "75%      9.430367e+05    1.111909e+06  0.000000e+00    0.000000e+00  \n",
       "max      3.560159e+08    3.561793e+08  1.000000e+00    1.000000e+00  "
      ]
     },
     "execution_count": 5,
     "metadata": {},
     "output_type": "execute_result"
    }
   ],
   "source": [
    "Fraud.describe()"
   ]
  },
  {
   "cell_type": "code",
   "execution_count": 6,
   "metadata": {},
   "outputs": [],
   "source": [
    "Fraud_rnd_sample = Fraud.sample(n=100000, random_state=1)"
   ]
  },
  {
   "cell_type": "code",
   "execution_count": 7,
   "metadata": {},
   "outputs": [
    {
     "data": {
      "image/png": "[encoded data removed]",
      "text/plain": [
       "<Figure size 432x288 with 4 Axes>"
      ]
     },
     "metadata": {
      "needs_background": "light"
     },
     "output_type": "display_data"
    }
   ],
   "source": [
    "fig, axs = plt.subplots(2, 2)\n",
    "sns.histplot(Fraud_rnd_sample, x=\"oldbalanceOrg\", bins = 100, ax = axs[0,0])\n",
    "sns.histplot(Fraud_rnd_sample, x=\"newbalanceOrig\", bins = 100,ax = axs[0,1])\n",
    "sns.histplot(Fraud_rnd_sample, x=\"oldbalanceDest\", bins = 100,ax = axs[1,0])\n",
    "sns.histplot(Fraud_rnd_sample, x=\"newbalanceDest\", bins = 100,ax = axs[1,1])\n",
    "plt.show()\n",
    "\n",
    "# Brutally skewed.\n",
    "# Also olds with exact zeros removed. Very skewed to low values nonetheless."
   ]
  },
  {
   "cell_type": "code",
   "execution_count": 8,
   "metadata": {},
   "outputs": [
    {
     "name": "stdout",
     "output_type": "stream",
     "text": [
      "0s Rate - oldbalanceOrg: 33.04 %\n",
      "0s Rate - newbalanceOrig: 56.73 %\n",
      "0s Rate - oldbalanceDest: 42.5 %\n",
      "0s Rate - newbalanceDest: 38.34 %\n"
     ]
    }
   ],
   "source": [
    "print('0s Rate - oldbalanceOrg:',round(100*len(Fraud[Fraud['oldbalanceOrg'] == 0])/len(Fraud),2),'%')\n",
    "print('0s Rate - newbalanceOrig:',round(100*len(Fraud[Fraud['newbalanceOrig'] == 0])/len(Fraud),2),'%')\n",
    "print('0s Rate - oldbalanceDest:',round(100*len(Fraud[Fraud['oldbalanceDest'] == 0])/len(Fraud),2),'%')\n",
    "print('0s Rate - newbalanceDest:',round(100*len(Fraud[Fraud['newbalanceDest'] == 0])/len(Fraud),2),'%')"
   ]
  },
  {
   "cell_type": "code",
   "execution_count": 9,
   "metadata": {},
   "outputs": [
    {
     "data": {
      "image/png": "[encoded data removed]",
      "text/plain": [
       "<Figure size 432x288 with 2 Axes>"
      ]
     },
     "metadata": {},
     "output_type": "display_data"
    }
   ],
   "source": [
    "corr = Fraud_rnd_sample.corr()\n",
    "sns.set_theme(style=\"white\")\n",
    "sns.heatmap(corr, cmap = plt.cm.RdYlGn)\n",
    "plt.show()"
   ]
  },
  {
   "cell_type": "code",
   "execution_count": 10,
   "metadata": {},
   "outputs": [
    {
     "data": {
      "text/html": [
       "<div>\n",
       "<style scoped>\n",
       "    .dataframe tbody tr th:only-of-type {\n",
       "        vertical-align: middle;\n",
       "    }\n",
       "\n",
       "    .dataframe tbody tr th {\n",
       "        vertical-align: top;\n",
       "    }\n",
       "\n",
       "    .dataframe thead th {\n",
       "        text-align: right;\n",
       "    }\n",
       "</style>\n",
       "<table border=\"1\" class=\"dataframe\">\n",
       "  <thead>\n",
       "    <tr style=\"text-align: right;\">\n",
       "      <th></th>\n",
       "      <th>index</th>\n",
       "      <th>type</th>\n",
       "    </tr>\n",
       "  </thead>\n",
       "  <tbody>\n",
       "    <tr>\n",
       "      <th>0</th>\n",
       "      <td>CASH_OUT</td>\n",
       "      <td>35209</td>\n",
       "    </tr>\n",
       "    <tr>\n",
       "      <th>1</th>\n",
       "      <td>PAYMENT</td>\n",
       "      <td>33694</td>\n",
       "    </tr>\n",
       "    <tr>\n",
       "      <th>2</th>\n",
       "      <td>CASH_IN</td>\n",
       "      <td>21987</td>\n",
       "    </tr>\n",
       "    <tr>\n",
       "      <th>3</th>\n",
       "      <td>TRANSFER</td>\n",
       "      <td>8416</td>\n",
       "    </tr>\n",
       "    <tr>\n",
       "      <th>4</th>\n",
       "      <td>DEBIT</td>\n",
       "      <td>694</td>\n",
       "    </tr>\n",
       "  </tbody>\n",
       "</table>\n",
       "</div>"
      ],
      "text/plain": [
       "      index   type\n",
       "0  CASH_OUT  35209\n",
       "1   PAYMENT  33694\n",
       "2   CASH_IN  21987\n",
       "3  TRANSFER   8416\n",
       "4     DEBIT    694"
      ]
     },
     "execution_count": 10,
     "metadata": {},
     "output_type": "execute_result"
    }
   ],
   "source": [
    "Fraud_rnd_sample['type'].value_counts().reset_index()"
   ]
  },
  {
   "cell_type": "markdown",
   "metadata": {},
   "source": [
    "### What is the distribution of the outcome? "
   ]
  },
  {
   "cell_type": "code",
   "execution_count": 11,
   "metadata": {},
   "outputs": [
    {
     "name": "stdout",
     "output_type": "stream",
     "text": [
      "Fraud Count: 8213\n",
      "Not Fraud Count: 6354407\n",
      "Fraud Rate: 0.13 %\n"
     ]
    }
   ],
   "source": [
    "print('Fraud Count:',len(Fraud[Fraud['isFraud'] == 1]))\n",
    "print('Not Fraud Count:',len(Fraud[Fraud['isFraud'] == 0]))\n",
    "print('Fraud Rate:',round(100*len(Fraud[Fraud['isFraud'] == 1])/len(Fraud),2),'%')"
   ]
  },
  {
   "cell_type": "markdown",
   "metadata": {},
   "source": [
    "### Clean the dataset. How are you going to integrate the time variable? Do you think the step (integer) coding in which it is given is appropriate?"
   ]
  },
  {
   "cell_type": "code",
   "execution_count": 12,
   "metadata": {},
   "outputs": [],
   "source": [
    "### On the step, maybe the time of the day is important. \n",
    "### If 1 represents one given starting hour, we can do the modulo of 24 and get the hour of the day and do dummies.\n",
    "Fraud_clean = Fraud\n",
    "Fraud_clean['Step_Modulo_24'] = Fraud_clean['step'].mod(24)"
   ]
  },
  {
   "cell_type": "code",
   "execution_count": 13,
   "metadata": {},
   "outputs": [
    {
     "data": {
      "image/png": "[encoded data removed]",
      "text/plain": [
       "<Figure size 432x288 with 1 Axes>"
      ]
     },
     "metadata": {},
     "output_type": "display_data"
    }
   ],
   "source": [
    "sns.barplot(x = Fraud_clean['Step_Modulo_24'].value_counts().reset_index()[\"index\"],y = Fraud_clean['Step_Modulo_24'].value_counts().reset_index()[\"Step_Modulo_24\"])\n",
    "plt.show() \n",
    "### Yeah, that seems to make sense... It might even be that the step modulo matches with the real hour...\n",
    "### It does look like people are mostly asleep from 2am to 6am, that sounds OK to me."
   ]
  },
  {
   "cell_type": "code",
   "execution_count": 14,
   "metadata": {},
   "outputs": [],
   "source": [
    "Fraud_clean['nameOrig_first_char'] = Fraud_clean['nameOrig'].astype(str).str[0]\n",
    "Fraud_clean['nameOrig_first_char'].value_counts() ### Just 'C', will drop this.\n",
    "\n",
    "Fraud_clean['nameDest_first_char'] = Fraud_clean['nameDest'].astype(str).str[0]\n",
    "Fraud_clean['nameDest_first_char'].value_counts() ### Two different accounts, will dummy this.\n",
    "\n",
    "Fraud_clean['nameOrig_len'] = Fraud_clean['nameOrig'].str.len()\n",
    "Fraud_clean['nameDest_len'] = Fraud_clean['nameDest'].str.len()"
   ]
  },
  {
   "cell_type": "code",
   "execution_count": 15,
   "metadata": {},
   "outputs": [
    {
     "data": {
      "text/plain": [
       "11    3398630\n",
       "10    2667372\n",
       "9      266807\n",
       "8       26789\n",
       "7        2718\n",
       "6         269\n",
       "5          35\n",
       "Name: nameOrig_len, dtype: int64"
      ]
     },
     "execution_count": 15,
     "metadata": {},
     "output_type": "execute_result"
    }
   ],
   "source": [
    "Fraud_clean['nameOrig_len'].value_counts() ### Might just do 11, 10 and Other."
   ]
  },
  {
   "cell_type": "code",
   "execution_count": 16,
   "metadata": {},
   "outputs": [],
   "source": [
    "replace_dict = {11:11,10:10,9:'Other',8:'Other',7:'Other',6:'Other',5:'Other'}\n",
    "Fraud_clean.replace({\"nameOrig_len\": replace_dict}, inplace = True)\n",
    "replace_dict = {11:11,10:10,9:'Other',8:'Other',7:'Other',6:'Other',5:'Other',4:'Other',2:'Other'}\n",
    "Fraud_clean.replace({\"nameDest_len\": replace_dict}, inplace = True)"
   ]
  },
  {
   "cell_type": "code",
   "execution_count": 17,
   "metadata": {},
   "outputs": [],
   "source": [
    "Fraud_clean = pd.get_dummies(Fraud_clean, columns=['Step_Modulo_24','type','nameOrig_len','nameDest_len','nameDest_first_char'])"
   ]
  },
  {
   "cell_type": "code",
   "execution_count": 18,
   "metadata": {},
   "outputs": [],
   "source": [
    "Fraud_clean = Fraud_clean.drop(['nameOrig_first_char','nameOrig','nameDest','step'], axis =1)"
   ]
  },
  {
   "cell_type": "code",
   "execution_count": 19,
   "metadata": {},
   "outputs": [],
   "source": [
    "# Your code here\n",
    "y = Fraud_clean[\"isFraud\"]\n",
    "x = Fraud_clean.drop('isFraud', axis = 1)\n",
    "x_train, x_test, y_train, y_test = train_test_split(x,y, test_size=0.2,random_state=15) "
   ]
  },
  {
   "cell_type": "code",
   "execution_count": 20,
   "metadata": {},
   "outputs": [],
   "source": [
    "# Normalize amounts of money (amount, oldbalancedOrg, newbalanceOrig, oldbalanceDest, newbalanceDest)\n",
    "def scale_func(x):\n",
    "    mymax = np.max(x)\n",
    "    mymin = np.min(x)\n",
    "    myamplitude = mymax - mymin\n",
    "    mylist = []\n",
    "    for ele in x:\n",
    "        mylist.append((ele - mymin)/myamplitude)\n",
    "    return mylist\n",
    "\n",
    "warnings.filterwarnings(\"ignore\")\n",
    "\n",
    "warnings.filterwarnings(\"ignore\")\n",
    "x_train['amount_scaled'] = scale_func(x_train['amount'])\n",
    "x_train['oldbalanceOrg_scaled'] = scale_func(x_train['oldbalanceOrg'])\n",
    "x_train['oldbalanceDest_scaled'] = scale_func(x_train['oldbalanceDest'])\n",
    "x_train['newbalanceOrig_scaled'] = scale_func(x_train['newbalanceOrig'])\n",
    "x_train['newbalanceDest_scaled'] = scale_func(x_train['newbalanceDest'])\n",
    "\n",
    "x_test['amount_scaled'] = scale_func(x_test['amount'])\n",
    "x_test['oldbalanceOrg_scaled'] = scale_func(x_test['oldbalanceOrg'])\n",
    "x_test['oldbalanceDest_scaled'] = scale_func(x_test['oldbalanceDest'])\n",
    "x_test['newbalanceOrig_scaled'] = scale_func(x_test['newbalanceOrig'])\n",
    "x_test['newbalanceDest_scaled'] = scale_func(x_test['newbalanceDest'])\n",
    "warnings.filterwarnings(\"default\")\n",
    "\n",
    "x_train = x_train.drop(['amount','oldbalanceOrg','oldbalanceDest','newbalanceOrig','newbalanceDest'], axis =1)\n",
    "x_test = x_test.drop(['amount','oldbalanceOrg','oldbalanceDest','newbalanceOrig','newbalanceDest'], axis =1)\n",
    "\n",
    "warnings.filterwarnings(\"default\")"
   ]
  },
  {
   "cell_type": "markdown",
   "metadata": {},
   "source": [
    "### Run a logisitc regression classifier and evaluate its accuracy."
   ]
  },
  {
   "cell_type": "code",
   "execution_count": 21,
   "metadata": {},
   "outputs": [
    {
     "name": "stdout",
     "output_type": "stream",
     "text": [
      "Test accuracy: 0.9988998242862217\n",
      "Train accuracy: 0.9989078791441262\n",
      "Train data accuracy: 0.9989078791441262\n",
      "F-Measure: 0.328\n",
      "p-values [0.00000000e+000 1.51909166e-087 0.00000000e+000 0.00000000e+000\n",
      " 0.00000000e+000 0.00000000e+000 0.00000000e+000 0.00000000e+000\n",
      " 0.00000000e+000 0.00000000e+000 1.31766066e-001 4.52212841e-012\n",
      " 6.90609563e-021 1.83422086e-023 4.21878002e-020 3.06585572e-014\n",
      " 1.05473642e-014 1.71984644e-018 9.93794278e-015 6.48328151e-042\n",
      " 9.84092335e-055 2.12475643e-037 2.48777633e-001 6.35928764e-008\n",
      " 1.27218252e-019 0.00000000e+000 5.09402475e-092 5.88778202e-011\n",
      " 0.00000000e+000 0.00000000e+000 3.84094262e-001 4.88609337e-001\n",
      " 7.90967409e-001 5.43590474e-001 5.17793762e-001 7.14116048e-001\n",
      " 4.80364742e-250 0.00000000e+000 3.18727322e-142 2.61499473e-020\n",
      " 2.33605360e-002 1.22157340e-016 8.59145276e-001]\n"
     ]
    }
   ],
   "source": [
    "# Your code here\n",
    "model = LogisticRegression(max_iter=1000)\n",
    "model = model.fit(x_train, y_train)\n",
    "\n",
    "print(\"Test accuracy:\", model.score(x_test,y_test))\n",
    "print(\"Train accuracy:\", model.score(x_train, y_train))\n",
    "\n",
    "y_pred = model.predict(x_test)\n",
    "score = f1_score(y_test, y_pred, average='binary')\n",
    "\n",
    "# print(\"Classification report:\", classification_report(y_pred,y_test))\n",
    "# print(\"Accuracy Score:\", accuracy_score(y_test, y_pred))\n",
    "# print(\"Confusion Matrix:\", confusion_matrix(model.predict(x_test),y_test))\n",
    "# print(\"Test data accuracy:\", model.score(x_test,y_test))\n",
    "print(\"Train data accuracy:\", model.score(x_train, y_train))\n",
    "print('F-Measure: %.3f' % score)\n",
    "\n",
    "scores, pvalues = chi2(x_train, y_train)\n",
    "print('p-values',pvalues)\n",
    "\n",
    "##### It does look amazing in terms of accuracy, but the confusion matrix reveals that the model is \n",
    "##### rather bad with dealing with the fraud cases, which is actually what we want.\n",
    "##### it just happens that they are a very small part of the sample... \n",
    "##### This is reflected in the very iffy f1 score."
   ]
  },
  {
   "cell_type": "markdown",
   "metadata": {},
   "source": [
    "### Now pick a model of your choice and evaluate its accuracy."
   ]
  },
  {
   "cell_type": "code",
   "execution_count": 23,
   "metadata": {},
   "outputs": [
    {
     "name": "stdout",
     "output_type": "stream",
     "text": [
      "Test accuracy: 0.8737066342057213\n",
      "Train accuracy: 0.8558599695585997\n",
      "Train data accuracy: 0.8558599695585997\n",
      "F-Measure: 0.874\n",
      "isFlaggedFraud --> 0.0002917 || 0.0891924\n",
      "Step_Modulo_24_0 --> 0.0000000 || 0.0000010\n",
      "Step_Modulo_24_1 --> 0.0000000 || 0.0000000\n",
      "Step_Modulo_24_2 --> 0.0000000 || 0.0000000\n",
      "Step_Modulo_24_3 --> 0.0000000 || 0.0000000\n",
      "Step_Modulo_24_4 --> 0.0000000 || 0.0000000\n",
      "Step_Modulo_24_5 --> 0.0000000 || 0.0000000\n",
      "Step_Modulo_24_6 --> 0.0000000 || 0.0000000\n",
      "Step_Modulo_24_7 --> 0.0000000 || 0.0000000\n",
      "Step_Modulo_24_8 --> 0.0000000 || 0.0000000\n",
      "Step_Modulo_24_9 --> 0.0388809 || 0.9771784\n",
      "Step_Modulo_24_10 --> 0.0000000 || 0.0385753\n",
      "Step_Modulo_24_11 --> 0.0000000 || 0.0000403\n",
      "Step_Modulo_24_12 --> 0.0000000 || 0.0014903\n",
      "Step_Modulo_24_13 --> 0.0000000 || 0.0022261\n",
      "Step_Modulo_24_14 --> 0.0000000 || 0.0045052\n",
      "Step_Modulo_24_15 --> 0.0000001 || 0.2384461\n",
      "Step_Modulo_24_16 --> 0.0000000 || 0.0007443\n",
      "Step_Modulo_24_17 --> 0.0000000 || 0.0000006\n",
      "Step_Modulo_24_18 --> 0.0000000 || 0.0000000\n",
      "Step_Modulo_24_19 --> 0.0000000 || 0.0000000\n",
      "Step_Modulo_24_20 --> 0.0000000 || 0.0000014\n",
      "Step_Modulo_24_21 --> 0.3804875 || 0.0966799\n",
      "Step_Modulo_24_22 --> 0.0000128 || 0.1365593\n",
      "Step_Modulo_24_23 --> 0.0000000 || 0.0015201\n",
      "type_CASH_IN --> 0.0000000 || 0.0000000\n",
      "type_CASH_OUT --> 0.0000000 || 0.0000000\n",
      "type_DEBIT --> 0.0000000 || 0.0000154\n",
      "type_PAYMENT --> 0.0000000 || 0.0000000\n",
      "type_TRANSFER --> 0.0000000 || 0.0000000\n",
      "nameOrig_len_10 --> 0.5664770 || 0.9027452\n",
      "nameOrig_len_11 --> 0.7716322 || 0.7292764\n",
      "nameOrig_len_Other --> 0.4688942 || 0.4299295\n",
      "nameDest_len_10 --> 0.9774505 || 0.5417172\n",
      "nameDest_len_11 --> 0.9900995 || 0.4168956\n",
      "nameDest_len_Other --> 0.9659336 || 0.3664774\n",
      "nameDest_first_char_C --> 0.0000000 || 0.0000000\n",
      "nameDest_first_char_M --> 0.0000000 || 0.0000000\n",
      "amount_scaled --> 0.0000000 || 0.0000000\n",
      "oldbalanceOrg_scaled --> 0.0000002 || 0.0131410\n",
      "oldbalanceDest_scaled --> 0.0180612 || 0.0187425\n",
      "newbalanceOrig_scaled --> 0.0000000 || 0.0000008\n",
      "newbalanceDest_scaled --> 0.9057846 || 0.8301026\n"
     ]
    }
   ],
   "source": [
    "# Will do the same model, but with downsampling of the majority (not fraud)\n",
    "# There is no data problem, the dataset is big.\n",
    "NotFraud = Fraud_clean[Fraud_clean['isFraud'] == 0]\n",
    "Fraud = Fraud_clean[Fraud_clean['isFraud'] == 1]\n",
    "\n",
    "NotFraud_downsampled = resample(NotFraud,replace=True,n_samples=len(Fraud),random_state=15)\n",
    "Fraud_clean_downsampled = Fraud.append(NotFraud_downsampled)\n",
    "\n",
    "y = Fraud_clean_downsampled[\"isFraud\"]\n",
    "x = Fraud_clean_downsampled.drop('isFraud', axis = 1)\n",
    "x_train, x_test, y_train, y_test = train_test_split(x,y, test_size=0.2,random_state=15) \n",
    "\n",
    "warnings.filterwarnings(\"ignore\")\n",
    "x_train['amount_scaled'] = scale_func(x_train['amount'])\n",
    "x_train['oldbalanceOrg_scaled'] = scale_func(x_train['oldbalanceOrg'])\n",
    "x_train['oldbalanceDest_scaled'] = scale_func(x_train['oldbalanceDest'])\n",
    "x_train['newbalanceOrig_scaled'] = scale_func(x_train['newbalanceOrig'])\n",
    "x_train['newbalanceDest_scaled'] = scale_func(x_train['newbalanceDest'])\n",
    "\n",
    "x_test['amount_scaled'] = scale_func(x_test['amount'])\n",
    "x_test['oldbalanceOrg_scaled'] = scale_func(x_test['oldbalanceOrg'])\n",
    "x_test['oldbalanceDest_scaled'] = scale_func(x_test['oldbalanceDest'])\n",
    "x_test['newbalanceOrig_scaled'] = scale_func(x_test['newbalanceOrig'])\n",
    "x_test['newbalanceDest_scaled'] = scale_func(x_test['newbalanceDest'])\n",
    "warnings.filterwarnings(\"default\")\n",
    "\n",
    "x_train = x_train.drop(['amount','oldbalanceOrg','oldbalanceDest','newbalanceOrig','newbalanceDest'], axis =1)\n",
    "x_test = x_test.drop(['amount','oldbalanceOrg','oldbalanceDest','newbalanceOrig','newbalanceDest'], axis =1)\n",
    "\n",
    "model = LogisticRegression(max_iter=1000)\n",
    "model = model.fit(x_train, y_train)\n",
    "\n",
    "print(\"Test accuracy:\", model.score(x_test,y_test))\n",
    "print(\"Train accuracy:\", model.score(x_train, y_train))\n",
    "\n",
    "y_pred = model.predict(x_test)\n",
    "score = f1_score(y_test, y_pred, average='binary')\n",
    "\n",
    "# print(\"Classification report:\", classification_report(y_pred,y_test))\n",
    "# print(\"Accuracy Score:\", accuracy_score(y_test, y_pred))\n",
    "# print(\"Confusion Matrix:\", confusion_matrix(model.predict(x_test),y_test))\n",
    "# print(\"Test data accuracy:\", model.score(x_test,y_test))\n",
    "print(\"Train data accuracy:\", model.score(x_train, y_train))\n",
    "print('F-Measure: %.3f' % score)\n",
    "\n",
    "scores, pvalues = chi2(x_train, y_train)\n",
    "pvalues_train = [\"{0:.7f}\".format(x)for x in pvalues]\n",
    "scores, pvalues = chi2(x_test, y_test)\n",
    "pvalues_test = [\"{0:.7f}\".format(x)for x in pvalues]\n",
    "\n",
    "for i in range(len(x_train.columns)):\n",
    "    print(x_train.columns[i],\"-->\",pvalues_train[i],\"||\",pvalues_test[i]) \n",
    "\n",
    "### Will then drop the len of the names.\n",
    "### Tested dropping the destination balances, but didn't change meaningfully the results, so kept them.\n",
    "### Other things could be done, such as lumping the hours of the day in subgroups... changing models...\n",
    "### Never ending story if we wanted to go on and on."
   ]
  },
  {
   "cell_type": "code",
   "execution_count": 24,
   "metadata": {
    "scrolled": true
   },
   "outputs": [
    {
     "name": "stdout",
     "output_type": "stream",
     "text": [
      "Test accuracy: 0.8740109555690809\n",
      "Train accuracy: 0.8559360730593607\n",
      "Confusion Matrix: [[1432  234]\n",
      " [ 180 1440]]\n",
      "Train data accuracy: 0.8559360730593607\n",
      "F-Measure: 0.874\n"
     ]
    }
   ],
   "source": [
    "# Will do the same model, but with downsampling of the majority (not fraud)\n",
    "# There is no data problem, the dataset is big.\n",
    "NotFraud = Fraud_clean[Fraud_clean['isFraud'] == 0]\n",
    "Fraud = Fraud_clean[Fraud_clean['isFraud'] == 1]\n",
    "\n",
    "NotFraud_downsampled = resample(NotFraud,replace=True,n_samples=len(Fraud),random_state=15)\n",
    "Fraud_clean_downsampled = Fraud.append(NotFraud_downsampled)\n",
    "\n",
    "y = Fraud_clean_downsampled[\"isFraud\"]\n",
    "x = Fraud_clean_downsampled.drop('isFraud', axis = 1)\n",
    "x_train, x_test, y_train, y_test = train_test_split(x,y, test_size=0.2,random_state=15) \n",
    "\n",
    "warnings.filterwarnings(\"ignore\")\n",
    "x_train['amount_scaled'] = scale_func(x_train['amount'])\n",
    "x_train['oldbalanceOrg_scaled'] = scale_func(x_train['oldbalanceOrg'])\n",
    "x_train['oldbalanceDest_scaled'] = scale_func(x_train['oldbalanceDest'])\n",
    "x_train['newbalanceOrig_scaled'] = scale_func(x_train['newbalanceOrig'])\n",
    "x_train['newbalanceDest_scaled'] = scale_func(x_train['newbalanceDest'])\n",
    "\n",
    "x_test['amount_scaled'] = scale_func(x_test['amount'])\n",
    "x_test['oldbalanceOrg_scaled'] = scale_func(x_test['oldbalanceOrg'])\n",
    "x_test['oldbalanceDest_scaled'] = scale_func(x_test['oldbalanceDest'])\n",
    "x_test['newbalanceOrig_scaled'] = scale_func(x_test['newbalanceOrig'])\n",
    "x_test['newbalanceDest_scaled'] = scale_func(x_test['newbalanceDest'])\n",
    "warnings.filterwarnings(\"default\")\n",
    "\n",
    "x_train = x_train.drop(['amount','oldbalanceOrg','oldbalanceDest','newbalanceOrig','newbalanceDest','nameOrig_len_10','nameOrig_len_11','nameOrig_len_Other','nameDest_len_10','nameDest_len_11','nameDest_len_Other'], axis =1)\n",
    "x_test = x_test.drop(['amount','oldbalanceOrg','oldbalanceDest','newbalanceOrig','newbalanceDest','nameOrig_len_10','nameOrig_len_11','nameOrig_len_Other','nameDest_len_10','nameDest_len_11','nameDest_len_Other'], axis =1)\n",
    "\n",
    "model = LogisticRegression(max_iter=1000)\n",
    "model = model.fit(x_train, y_train)\n",
    "\n",
    "print(\"Test accuracy:\", model.score(x_test,y_test))\n",
    "print(\"Train accuracy:\", model.score(x_train, y_train))\n",
    "\n",
    "y_pred = model.predict(x_test)\n",
    "score = f1_score(y_test, y_pred, average='binary')\n",
    "\n",
    "# print(\"Classification report:\", classification_report(y_pred,y_test))\n",
    "# print(\"Accuracy Score:\", accuracy_score(y_test, y_pred))\n",
    "print(\"Confusion Matrix:\", confusion_matrix(model.predict(x_test),y_test))\n",
    "# print(\"Test data accuracy:\", model.score(x_test,y_test))\n",
    "print(\"Train data accuracy:\", model.score(x_train, y_train))\n",
    "print('F-Measure: %.3f' % score)"
   ]
  },
  {
   "cell_type": "markdown",
   "metadata": {},
   "source": [
    "### Which model worked better and how do you know?"
   ]
  },
  {
   "cell_type": "code",
   "execution_count": 25,
   "metadata": {},
   "outputs": [],
   "source": [
    "# Your response here\n",
    "# Second has a better F measure and more accuracy in dectecting the actual fraud cases, mostly coming from the downsampling"
   ]
  },
  {
   "cell_type": "markdown",
   "metadata": {},
   "source": [
    "### Note: before doing the first commit, make sure you don't include the large csv file, either by adding it to .gitignore, or by deleting it."
   ]
  }
 ],
 "metadata": {
  "kernelspec": {
   "display_name": "Python 3",
   "language": "python",
   "name": "python3"
  },
  "language_info": {
   "codemirror_mode": {
    "name": "ipython",
    "version": 3
   },
   "file_extension": ".py",
   "mimetype": "text/x-python",
   "name": "python",
   "nbconvert_exporter": "python",
   "pygments_lexer": "ipython3",
   "version": "3.8.2"
  }
 },
 "nbformat": 4,
 "nbformat_minor": 2
}
